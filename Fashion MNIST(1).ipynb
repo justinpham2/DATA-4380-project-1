{
 "cells": [
  {
   "cell_type": "code",
   "execution_count": 2,
   "id": "bd9a5e8e",
   "metadata": {},
   "outputs": [],
   "source": [
    "#!pip install tensorflow opencv-python matplotlib"
   ]
  },
  {
   "cell_type": "code",
   "execution_count": 3,
   "id": "9bfcf8e7",
   "metadata": {},
   "outputs": [],
   "source": [
    "#!pip install keras"
   ]
  },
  {
   "cell_type": "code",
   "execution_count": 4,
   "id": "bbb9dff6",
   "metadata": {},
   "outputs": [
    {
     "name": "stderr",
     "output_type": "stream",
     "text": [
      "2023-05-01 14:41:50.534321: I tensorflow/core/platform/cpu_feature_guard.cc:193] This TensorFlow binary is optimized with oneAPI Deep Neural Network Library (oneDNN) to use the following CPU instructions in performance-critical operations:  AVX2 AVX512F AVX512_VNNI FMA\n",
      "To enable them in other operations, rebuild TensorFlow with the appropriate compiler flags.\n",
      "2023-05-01 14:41:51.310324: I tensorflow/core/util/port.cc:104] oneDNN custom operations are on. You may see slightly different numerical results due to floating-point round-off errors from different computation orders. To turn them off, set the environment variable `TF_ENABLE_ONEDNN_OPTS=0`.\n",
      "2023-05-01 14:41:51.473153: W tensorflow/compiler/xla/stream_executor/platform/default/dso_loader.cc:64] Could not load dynamic library 'libcudart.so.11.0'; dlerror: libcudart.so.11.0: cannot open shared object file: No such file or directory\n",
      "2023-05-01 14:41:51.473196: I tensorflow/compiler/xla/stream_executor/cuda/cudart_stub.cc:29] Ignore above cudart dlerror if you do not have a GPU set up on your machine.\n",
      "2023-05-01 14:41:53.543701: W tensorflow/compiler/xla/stream_executor/platform/default/dso_loader.cc:64] Could not load dynamic library 'libnvinfer.so.7'; dlerror: libnvinfer.so.7: cannot open shared object file: No such file or directory\n",
      "2023-05-01 14:41:53.543983: W tensorflow/compiler/xla/stream_executor/platform/default/dso_loader.cc:64] Could not load dynamic library 'libnvinfer_plugin.so.7'; dlerror: libnvinfer_plugin.so.7: cannot open shared object file: No such file or directory\n",
      "2023-05-01 14:41:53.544023: W tensorflow/compiler/tf2tensorrt/utils/py_utils.cc:38] TF-TRT Warning: Cannot dlopen some TensorRT libraries. If you would like to use Nvidia GPU with TensorRT, please make sure the missing libraries mentioned above are installed properly.\n"
     ]
    }
   ],
   "source": [
    "import numpy as np\n",
    "import pandas as pd\n",
    "from matplotlib import pyplot as plt\n",
    "import tensorflow as tf\n",
    "from tensorflow import keras\n",
    "from tensorflow.keras import layers\n",
    "from sklearn.model_selection import train_test_split\n",
    "from tensorflow.keras.models import Sequential\n",
    "from tensorflow.keras.layers import Conv2D, MaxPooling2D, Flatten, Dense, Dropout\n",
    "from keras.optimizers import Adam"
   ]
  },
  {
   "cell_type": "markdown",
   "id": "dc79cd8c",
   "metadata": {},
   "source": [
    "# Preprocessing"
   ]
  },
  {
   "cell_type": "code",
   "execution_count": 5,
   "id": "f4b7f339",
   "metadata": {},
   "outputs": [],
   "source": [
    "train_df = pd.read_csv(r'fashion-mnist_train.csv')\n",
    "test_df = pd.read_csv(r'fashion-mnist_test.csv')\n"
   ]
  },
  {
   "cell_type": "code",
   "execution_count": 6,
   "id": "a6fb1017",
   "metadata": {},
   "outputs": [
    {
     "data": {
      "text/html": [
       "<div>\n",
       "<style scoped>\n",
       "    .dataframe tbody tr th:only-of-type {\n",
       "        vertical-align: middle;\n",
       "    }\n",
       "\n",
       "    .dataframe tbody tr th {\n",
       "        vertical-align: top;\n",
       "    }\n",
       "\n",
       "    .dataframe thead th {\n",
       "        text-align: right;\n",
       "    }\n",
       "</style>\n",
       "<table border=\"1\" class=\"dataframe\">\n",
       "  <thead>\n",
       "    <tr style=\"text-align: right;\">\n",
       "      <th></th>\n",
       "      <th>label</th>\n",
       "      <th>pixel1</th>\n",
       "      <th>pixel2</th>\n",
       "      <th>pixel3</th>\n",
       "      <th>pixel4</th>\n",
       "      <th>pixel5</th>\n",
       "      <th>pixel6</th>\n",
       "      <th>pixel7</th>\n",
       "      <th>pixel8</th>\n",
       "      <th>pixel9</th>\n",
       "      <th>...</th>\n",
       "      <th>pixel775</th>\n",
       "      <th>pixel776</th>\n",
       "      <th>pixel777</th>\n",
       "      <th>pixel778</th>\n",
       "      <th>pixel779</th>\n",
       "      <th>pixel780</th>\n",
       "      <th>pixel781</th>\n",
       "      <th>pixel782</th>\n",
       "      <th>pixel783</th>\n",
       "      <th>pixel784</th>\n",
       "    </tr>\n",
       "  </thead>\n",
       "  <tbody>\n",
       "    <tr>\n",
       "      <th>0</th>\n",
       "      <td>2</td>\n",
       "      <td>0</td>\n",
       "      <td>0</td>\n",
       "      <td>0</td>\n",
       "      <td>0</td>\n",
       "      <td>0</td>\n",
       "      <td>0</td>\n",
       "      <td>0</td>\n",
       "      <td>0</td>\n",
       "      <td>0</td>\n",
       "      <td>...</td>\n",
       "      <td>0</td>\n",
       "      <td>0</td>\n",
       "      <td>0</td>\n",
       "      <td>0</td>\n",
       "      <td>0</td>\n",
       "      <td>0</td>\n",
       "      <td>0</td>\n",
       "      <td>0</td>\n",
       "      <td>0</td>\n",
       "      <td>0</td>\n",
       "    </tr>\n",
       "    <tr>\n",
       "      <th>1</th>\n",
       "      <td>9</td>\n",
       "      <td>0</td>\n",
       "      <td>0</td>\n",
       "      <td>0</td>\n",
       "      <td>0</td>\n",
       "      <td>0</td>\n",
       "      <td>0</td>\n",
       "      <td>0</td>\n",
       "      <td>0</td>\n",
       "      <td>0</td>\n",
       "      <td>...</td>\n",
       "      <td>0</td>\n",
       "      <td>0</td>\n",
       "      <td>0</td>\n",
       "      <td>0</td>\n",
       "      <td>0</td>\n",
       "      <td>0</td>\n",
       "      <td>0</td>\n",
       "      <td>0</td>\n",
       "      <td>0</td>\n",
       "      <td>0</td>\n",
       "    </tr>\n",
       "    <tr>\n",
       "      <th>2</th>\n",
       "      <td>6</td>\n",
       "      <td>0</td>\n",
       "      <td>0</td>\n",
       "      <td>0</td>\n",
       "      <td>0</td>\n",
       "      <td>0</td>\n",
       "      <td>0</td>\n",
       "      <td>0</td>\n",
       "      <td>5</td>\n",
       "      <td>0</td>\n",
       "      <td>...</td>\n",
       "      <td>0</td>\n",
       "      <td>0</td>\n",
       "      <td>0</td>\n",
       "      <td>30</td>\n",
       "      <td>43</td>\n",
       "      <td>0</td>\n",
       "      <td>0</td>\n",
       "      <td>0</td>\n",
       "      <td>0</td>\n",
       "      <td>0</td>\n",
       "    </tr>\n",
       "    <tr>\n",
       "      <th>3</th>\n",
       "      <td>0</td>\n",
       "      <td>0</td>\n",
       "      <td>0</td>\n",
       "      <td>0</td>\n",
       "      <td>1</td>\n",
       "      <td>2</td>\n",
       "      <td>0</td>\n",
       "      <td>0</td>\n",
       "      <td>0</td>\n",
       "      <td>0</td>\n",
       "      <td>...</td>\n",
       "      <td>3</td>\n",
       "      <td>0</td>\n",
       "      <td>0</td>\n",
       "      <td>0</td>\n",
       "      <td>0</td>\n",
       "      <td>1</td>\n",
       "      <td>0</td>\n",
       "      <td>0</td>\n",
       "      <td>0</td>\n",
       "      <td>0</td>\n",
       "    </tr>\n",
       "    <tr>\n",
       "      <th>4</th>\n",
       "      <td>3</td>\n",
       "      <td>0</td>\n",
       "      <td>0</td>\n",
       "      <td>0</td>\n",
       "      <td>0</td>\n",
       "      <td>0</td>\n",
       "      <td>0</td>\n",
       "      <td>0</td>\n",
       "      <td>0</td>\n",
       "      <td>0</td>\n",
       "      <td>...</td>\n",
       "      <td>0</td>\n",
       "      <td>0</td>\n",
       "      <td>0</td>\n",
       "      <td>0</td>\n",
       "      <td>0</td>\n",
       "      <td>0</td>\n",
       "      <td>0</td>\n",
       "      <td>0</td>\n",
       "      <td>0</td>\n",
       "      <td>0</td>\n",
       "    </tr>\n",
       "  </tbody>\n",
       "</table>\n",
       "<p>5 rows × 785 columns</p>\n",
       "</div>"
      ],
      "text/plain": [
       "   label  pixel1  pixel2  pixel3  pixel4  pixel5  pixel6  pixel7  pixel8  \\\n",
       "0      2       0       0       0       0       0       0       0       0   \n",
       "1      9       0       0       0       0       0       0       0       0   \n",
       "2      6       0       0       0       0       0       0       0       5   \n",
       "3      0       0       0       0       1       2       0       0       0   \n",
       "4      3       0       0       0       0       0       0       0       0   \n",
       "\n",
       "   pixel9  ...  pixel775  pixel776  pixel777  pixel778  pixel779  pixel780  \\\n",
       "0       0  ...         0         0         0         0         0         0   \n",
       "1       0  ...         0         0         0         0         0         0   \n",
       "2       0  ...         0         0         0        30        43         0   \n",
       "3       0  ...         3         0         0         0         0         1   \n",
       "4       0  ...         0         0         0         0         0         0   \n",
       "\n",
       "   pixel781  pixel782  pixel783  pixel784  \n",
       "0         0         0         0         0  \n",
       "1         0         0         0         0  \n",
       "2         0         0         0         0  \n",
       "3         0         0         0         0  \n",
       "4         0         0         0         0  \n",
       "\n",
       "[5 rows x 785 columns]"
      ]
     },
     "execution_count": 6,
     "metadata": {},
     "output_type": "execute_result"
    }
   ],
   "source": [
    "train_df.head()"
   ]
  },
  {
   "cell_type": "code",
   "execution_count": 7,
   "id": "60197754",
   "metadata": {},
   "outputs": [
    {
     "data": {
      "text/plain": [
       "(60000, 785)"
      ]
     },
     "execution_count": 7,
     "metadata": {},
     "output_type": "execute_result"
    }
   ],
   "source": [
    "train_df.shape"
   ]
  },
  {
   "cell_type": "code",
   "execution_count": 8,
   "id": "e74cca08",
   "metadata": {},
   "outputs": [
    {
     "data": {
      "text/plain": [
       "(10000, 785)"
      ]
     },
     "execution_count": 8,
     "metadata": {},
     "output_type": "execute_result"
    }
   ],
   "source": [
    "test_df.shape"
   ]
  },
  {
   "cell_type": "code",
   "execution_count": 9,
   "id": "ce651ff6",
   "metadata": {
    "scrolled": true
   },
   "outputs": [
    {
     "name": "stdout",
     "output_type": "stream",
     "text": [
      "label       False\n",
      "pixel1      False\n",
      "pixel2      False\n",
      "pixel3      False\n",
      "pixel4      False\n",
      "            ...  \n",
      "pixel780    False\n",
      "pixel781    False\n",
      "pixel782    False\n",
      "pixel783    False\n",
      "pixel784    False\n",
      "Length: 785, dtype: bool\n"
     ]
    }
   ],
   "source": [
    "#check nulls\n",
    "print(train_df.isnull().any())"
   ]
  },
  {
   "cell_type": "code",
   "execution_count": 10,
   "id": "26e3b8f3",
   "metadata": {},
   "outputs": [],
   "source": [
    "# split data into x (image) and y (label) arrays \n",
    "train_data = np.array(train_df, dtype='float32')\n",
    "test_data = np.array(test_df, dtype='float32')\n",
    "\n",
    "x_train = train_data[:, 1:] / 255 #rescale from 255 to 1 for better convergence\n",
    "y_train = train_data[:, 0]\n",
    "\n",
    "x_test = test_data[:, 1:] / 255 #normalize \n",
    "y_test = test_data[:, 0]"
   ]
  },
  {
   "cell_type": "code",
   "execution_count": 11,
   "id": "5b47f6d1",
   "metadata": {},
   "outputs": [],
   "source": [
    "# split the training set into validation and validate arrays\n",
    "# idea: compare with diff test size \n",
    "x_train, x_validate, y_train, y_validate = train_test_split(\n",
    "    x_train, y_train, test_size=0.2, random_state=12345,\n",
    ")"
   ]
  },
  {
   "cell_type": "code",
   "execution_count": 12,
   "id": "ccc656d5",
   "metadata": {},
   "outputs": [
    {
     "data": {
      "image/png": "[encoded data removed]",
      "text/plain": [
       "<Figure size 432x288 with 1 Axes>"
      ]
     },
     "metadata": {
      "needs_background": "light"
     },
     "output_type": "display_data"
    },
    {
     "data": {
      "image/png": "[encoded data removed]",
      "text/plain": [
       "<Figure size 432x288 with 1 Axes>"
      ]
     },
     "metadata": {
      "needs_background": "light"
     },
     "output_type": "display_data"
    }
   ],
   "source": [
    "# images\n",
    "\n",
    "image = x_train[200, :].reshape((28, 28))\n",
    "\n",
    "plt.imshow(image)\n",
    "plt.show()\n",
    "\n",
    "image = x_train[400, :].reshape((28, 28))\n",
    "\n",
    "plt.imshow(image)\n",
    "plt.show()"
   ]
  },
  {
   "cell_type": "code",
   "execution_count": 13,
   "id": "1a351444",
   "metadata": {},
   "outputs": [
    {
     "data": {
      "image/png": "[encoded data removed]",
      "text/plain": [
       "<Figure size 432x288 with 1 Axes>"
      ]
     },
     "metadata": {
      "needs_background": "light"
     },
     "output_type": "display_data"
    }
   ],
   "source": [
    "#Distribution of classes and labels\n",
    "\n",
    "counts, bins = np.histogram(y_train, bins=10, range=(0,10))\n",
    "fig, ax = plt.subplots()\n",
    "ax.bar(bins[:-1], counts, width=0.8)\n",
    "ax.set_xlabel('Label')\n",
    "ax.set_ylabel('Count')\n",
    "ax.set_title('MNIST Label Distribution')\n",
    "plt.show()"
   ]
  },
  {
   "cell_type": "markdown",
   "id": "0c64de36",
   "metadata": {},
   "source": [
    "# Building the model"
   ]
  },
  {
   "cell_type": "code",
   "execution_count": 14,
   "id": "7fcce337",
   "metadata": {},
   "outputs": [
    {
     "name": "stdout",
     "output_type": "stream",
     "text": [
      "(48000, 28, 28, 1)\n",
      "(10000, 28, 28, 1)\n",
      "(12000, 28, 28, 1)\n"
     ]
    },
    {
     "name": "stderr",
     "output_type": "stream",
     "text": [
      "2023-05-01 14:42:05.831570: W tensorflow/compiler/xla/stream_executor/platform/default/dso_loader.cc:64] Could not load dynamic library 'libcuda.so.1'; dlerror: libcuda.so.1: cannot open shared object file: No such file or directory\n",
      "2023-05-01 14:42:05.833058: W tensorflow/compiler/xla/stream_executor/cuda/cuda_driver.cc:265] failed call to cuInit: UNKNOWN ERROR (303)\n",
      "2023-05-01 14:42:05.833886: I tensorflow/compiler/xla/stream_executor/cuda/cuda_diagnostics.cc:156] kernel driver does not appear to be running on this host (LAPTOP-4TLGGRRF): /proc/driver/nvidia/version does not exist\n",
      "2023-05-01 14:42:05.837521: I tensorflow/core/platform/cpu_feature_guard.cc:193] This TensorFlow binary is optimized with oneAPI Deep Neural Network Library (oneDNN) to use the following CPU instructions in performance-critical operations:  AVX2 AVX512F AVX512_VNNI FMA\n",
      "To enable them in other operations, rebuild TensorFlow with the appropriate compiler flags.\n"
     ]
    }
   ],
   "source": [
    "#define the model \n",
    "im_rows = 28\n",
    "im_cols = 28 \n",
    "batch_size = 512\n",
    "im_shape = (im_rows, im_cols, 1) #2 dimensional \n",
    "num_classes = 10\n",
    "\n",
    "x_train = x_train.reshape(x_train.shape[0], *im_shape)\n",
    "x_test = x_test.reshape(x_test.shape[0], *im_shape)\n",
    "x_validate = x_validate.reshape(x_validate.shape[0], *im_shape)\n",
    "\n",
    "print(x_train.shape)\n",
    "print(x_test.shape)\n",
    "print(x_validate.shape)\n",
    "\n",
    "model = Sequential()\n",
    "model.add (Conv2D(filters=32,kernel_size =3, activation = 'relu',input_shape = im_shape))\n",
    "model.add(MaxPooling2D(pool_size = 2))\n",
    "model.add(Dropout(0.3))\n",
    "model.add(Flatten())\n",
    "model.add(Dense(32, activation='relu'))\n",
    "model.add(Dense(10, activation='softmax'))\n",
    "model.compile(loss='sparse_categorical_crossentropy', optimizer=Adam(learning_rate=0.001), metrics=['accuracy'])\n",
    "\n",
    "\n"
   ]
  },
  {
   "cell_type": "code",
   "execution_count": 15,
   "id": "89bf80ef",
   "metadata": {},
   "outputs": [
    {
     "name": "stdout",
     "output_type": "stream",
     "text": [
      "Epoch 1/20\n",
      "94/94 [==============================] - 8s 74ms/step - loss: 0.7781 - accuracy: 0.7428 - val_loss: 0.4922 - val_accuracy: 0.8282\n",
      "Epoch 2/20\n",
      "94/94 [==============================] - 7s 70ms/step - loss: 0.4492 - accuracy: 0.8434 - val_loss: 0.4030 - val_accuracy: 0.8598\n",
      "Epoch 3/20\n",
      "94/94 [==============================] - 7s 70ms/step - loss: 0.3996 - accuracy: 0.8601 - val_loss: 0.3694 - val_accuracy: 0.8713\n",
      "Epoch 4/20\n",
      "94/94 [==============================] - 7s 73ms/step - loss: 0.3676 - accuracy: 0.8710 - val_loss: 0.3411 - val_accuracy: 0.8812\n",
      "Epoch 5/20\n",
      "94/94 [==============================] - 7s 77ms/step - loss: 0.3492 - accuracy: 0.8767 - val_loss: 0.3299 - val_accuracy: 0.8849\n",
      "Epoch 6/20\n",
      "94/94 [==============================] - 7s 71ms/step - loss: 0.3309 - accuracy: 0.8831 - val_loss: 0.3206 - val_accuracy: 0.8878\n",
      "Epoch 7/20\n",
      "94/94 [==============================] - 7s 74ms/step - loss: 0.3181 - accuracy: 0.8890 - val_loss: 0.3026 - val_accuracy: 0.8943\n",
      "Epoch 8/20\n",
      "94/94 [==============================] - 7s 73ms/step - loss: 0.3070 - accuracy: 0.8921 - val_loss: 0.3085 - val_accuracy: 0.8925\n",
      "Epoch 9/20\n",
      "94/94 [==============================] - 7s 71ms/step - loss: 0.2981 - accuracy: 0.8941 - val_loss: 0.2904 - val_accuracy: 0.8953\n",
      "Epoch 10/20\n",
      "94/94 [==============================] - 7s 72ms/step - loss: 0.2889 - accuracy: 0.8972 - val_loss: 0.2868 - val_accuracy: 0.8980\n",
      "Epoch 11/20\n",
      "94/94 [==============================] - 7s 73ms/step - loss: 0.2816 - accuracy: 0.9001 - val_loss: 0.2781 - val_accuracy: 0.9007\n",
      "Epoch 12/20\n",
      "94/94 [==============================] - 8s 86ms/step - loss: 0.2782 - accuracy: 0.9016 - val_loss: 0.2729 - val_accuracy: 0.9034\n",
      "Epoch 13/20\n",
      "94/94 [==============================] - 8s 84ms/step - loss: 0.2685 - accuracy: 0.9046 - val_loss: 0.2728 - val_accuracy: 0.9041\n",
      "Epoch 14/20\n",
      "94/94 [==============================] - 8s 81ms/step - loss: 0.2668 - accuracy: 0.9047 - val_loss: 0.2659 - val_accuracy: 0.9061\n",
      "Epoch 15/20\n",
      "94/94 [==============================] - 7s 79ms/step - loss: 0.2613 - accuracy: 0.9068 - val_loss: 0.2683 - val_accuracy: 0.9040\n",
      "Epoch 16/20\n",
      "94/94 [==============================] - 8s 81ms/step - loss: 0.2548 - accuracy: 0.9102 - val_loss: 0.2605 - val_accuracy: 0.9072\n",
      "Epoch 17/20\n",
      "94/94 [==============================] - 7s 76ms/step - loss: 0.2513 - accuracy: 0.9091 - val_loss: 0.2603 - val_accuracy: 0.9038\n",
      "Epoch 18/20\n",
      "94/94 [==============================] - 7s 75ms/step - loss: 0.2472 - accuracy: 0.9113 - val_loss: 0.2530 - val_accuracy: 0.9111\n",
      "Epoch 19/20\n",
      "94/94 [==============================] - 7s 75ms/step - loss: 0.2378 - accuracy: 0.9150 - val_loss: 0.2529 - val_accuracy: 0.9085\n",
      "Epoch 20/20\n",
      "94/94 [==============================] - 8s 85ms/step - loss: 0.2353 - accuracy: 0.9161 - val_loss: 0.2480 - val_accuracy: 0.9121\n"
     ]
    }
   ],
   "source": [
    "#train model\n",
    "history = model.fit(x_train,y_train,batch_size= batch_size,epochs= 20,verbose = 1,validation_data= (x_validate,y_validate))"
   ]
  },
  {
   "cell_type": "markdown",
   "id": "03f31600",
   "metadata": {},
   "source": [
    "# Evaluate Performance"
   ]
  },
  {
   "cell_type": "code",
   "execution_count": 16,
   "id": "5c231c3a",
   "metadata": {},
   "outputs": [
    {
     "name": "stdout",
     "output_type": "stream",
     "text": [
      "Test loss: 0.24796278774738312\n",
      "Test accuracy: 0.9120833277702332\n"
     ]
    }
   ],
   "source": [
    "score = model.evaluate(x_validate, y_validate, verbose=0)\n",
    "print('Test loss:', score[0])\n",
    "print('Test accuracy:', score[1])"
   ]
  },
  {
   "cell_type": "code",
   "execution_count": 17,
   "id": "6cf66f17",
   "metadata": {},
   "outputs": [
    {
     "data": {
      "text/plain": [
       "{'loss': [0.7781240940093994,\n",
       "  0.4491986632347107,\n",
       "  0.39960506558418274,\n",
       "  0.3675804138183594,\n",
       "  0.3491881191730499,\n",
       "  0.3309420049190521,\n",
       "  0.31806379556655884,\n",
       "  0.306963711977005,\n",
       "  0.2981448471546173,\n",
       "  0.2889227271080017,\n",
       "  0.28157222270965576,\n",
       "  0.27820950746536255,\n",
       "  0.2684709131717682,\n",
       "  0.266767680644989,\n",
       "  0.26133039593696594,\n",
       "  0.25479742884635925,\n",
       "  0.25127217173576355,\n",
       "  0.24718692898750305,\n",
       "  0.23776428401470184,\n",
       "  0.23532161116600037],\n",
       " 'accuracy': [0.7427708506584167,\n",
       "  0.843375027179718,\n",
       "  0.8600833415985107,\n",
       "  0.8709791898727417,\n",
       "  0.8767499923706055,\n",
       "  0.8830833435058594,\n",
       "  0.8889583349227905,\n",
       "  0.8920833468437195,\n",
       "  0.8941041827201843,\n",
       "  0.8971874713897705,\n",
       "  0.9001250267028809,\n",
       "  0.9015833139419556,\n",
       "  0.9045833349227905,\n",
       "  0.9047291874885559,\n",
       "  0.9068124890327454,\n",
       "  0.9102083444595337,\n",
       "  0.9091249704360962,\n",
       "  0.9113125205039978,\n",
       "  0.9150000214576721,\n",
       "  0.9160833358764648],\n",
       " 'val_loss': [0.492244154214859,\n",
       "  0.40304577350616455,\n",
       "  0.36943960189819336,\n",
       "  0.3411239683628082,\n",
       "  0.32992205023765564,\n",
       "  0.32056954503059387,\n",
       "  0.3026003837585449,\n",
       "  0.3085218667984009,\n",
       "  0.29036369919776917,\n",
       "  0.286795049905777,\n",
       "  0.27811962366104126,\n",
       "  0.27290084958076477,\n",
       "  0.272787481546402,\n",
       "  0.2659122049808502,\n",
       "  0.2683272063732147,\n",
       "  0.2604601979255676,\n",
       "  0.2603245675563812,\n",
       "  0.2529867887496948,\n",
       "  0.25293806195259094,\n",
       "  0.24796274304389954],\n",
       " 'val_accuracy': [0.828249990940094,\n",
       "  0.8598333597183228,\n",
       "  0.8713333606719971,\n",
       "  0.8811666369438171,\n",
       "  0.8849166631698608,\n",
       "  0.8877500295639038,\n",
       "  0.8943333625793457,\n",
       "  0.8924999833106995,\n",
       "  0.8952500224113464,\n",
       "  0.8980000019073486,\n",
       "  0.9006666541099548,\n",
       "  0.9034166932106018,\n",
       "  0.9040833115577698,\n",
       "  0.906083345413208,\n",
       "  0.9039999842643738,\n",
       "  0.9072499871253967,\n",
       "  0.9038333296775818,\n",
       "  0.9110833406448364,\n",
       "  0.9085000157356262,\n",
       "  0.9120833277702332]}"
      ]
     },
     "execution_count": 17,
     "metadata": {},
     "output_type": "execute_result"
    }
   ],
   "source": [
    "history.history"
   ]
  },
  {
   "cell_type": "code",
   "execution_count": 18,
   "id": "0a438812",
   "metadata": {},
   "outputs": [
    {
     "data": {
      "image/png": "[encoded data removed]",
      "text/plain": [
       "<Figure size 432x288 with 1 Axes>"
      ]
     },
     "metadata": {
      "needs_background": "light"
     },
     "output_type": "display_data"
    }
   ],
   "source": [
    "#loss plot\n",
    "fig = plt.figure()\n",
    "plt.plot(history.history['loss'],color = 'teal',label = 'loss')\n",
    "plt.plot(history.history['val_loss'],color = 'orange',label = 'val_loss')\n",
    "plt.legend(loc='upper right')\n",
    "plt.show()"
   ]
  },
  {
   "cell_type": "code",
   "execution_count": null,
   "id": "a815d786",
   "metadata": {},
   "outputs": [],
   "source": []
  }
 ],
 "metadata": {
  "kernelspec": {
   "display_name": "Python 3 (ipykernel)",
   "language": "python",
   "name": "python3"
  },
  "language_info": {
   "codemirror_mode": {
    "name": "ipython",
    "version": 3
   },
   "file_extension": ".py",
   "mimetype": "text/x-python",
   "name": "python",
   "nbconvert_exporter": "python",
   "pygments_lexer": "ipython3",
   "version": "3.8.10"
  }
 },
 "nbformat": 4,
 "nbformat_minor": 5
}
