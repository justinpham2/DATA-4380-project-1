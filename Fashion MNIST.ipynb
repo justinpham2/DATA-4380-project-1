{
 "cells": [
  {
   "cell_type": "code",
   "execution_count": 1,
   "id": "bd9a5e8e",
   "metadata": {},
   "outputs": [],
   "source": [
    "#!pip install tensorflow opencv-python matplotlib"
   ]
  },
  {
   "cell_type": "code",
   "execution_count": 2,
   "id": "9bfcf8e7",
   "metadata": {},
   "outputs": [],
   "source": [
    "#!pip install keras"
   ]
  },
  {
   "cell_type": "code",
   "execution_count": 3,
   "id": "bbb9dff6",
   "metadata": {},
   "outputs": [
    {
     "name": "stderr",
     "output_type": "stream",
     "text": [
      "2023-03-19 15:05:28.769970: I tensorflow/core/platform/cpu_feature_guard.cc:193] This TensorFlow binary is optimized with oneAPI Deep Neural Network Library (oneDNN) to use the following CPU instructions in performance-critical operations:  AVX2 AVX512F AVX512_VNNI FMA\n",
      "To enable them in other operations, rebuild TensorFlow with the appropriate compiler flags.\n",
      "2023-03-19 15:05:29.508138: I tensorflow/core/util/port.cc:104] oneDNN custom operations are on. You may see slightly different numerical results due to floating-point round-off errors from different computation orders. To turn them off, set the environment variable `TF_ENABLE_ONEDNN_OPTS=0`.\n",
      "2023-03-19 15:05:29.664787: W tensorflow/compiler/xla/stream_executor/platform/default/dso_loader.cc:64] Could not load dynamic library 'libcudart.so.11.0'; dlerror: libcudart.so.11.0: cannot open shared object file: No such file or directory\n",
      "2023-03-19 15:05:29.664820: I tensorflow/compiler/xla/stream_executor/cuda/cudart_stub.cc:29] Ignore above cudart dlerror if you do not have a GPU set up on your machine.\n",
      "2023-03-19 15:05:31.798721: W tensorflow/compiler/xla/stream_executor/platform/default/dso_loader.cc:64] Could not load dynamic library 'libnvinfer.so.7'; dlerror: libnvinfer.so.7: cannot open shared object file: No such file or directory\n",
      "2023-03-19 15:05:31.799108: W tensorflow/compiler/xla/stream_executor/platform/default/dso_loader.cc:64] Could not load dynamic library 'libnvinfer_plugin.so.7'; dlerror: libnvinfer_plugin.so.7: cannot open shared object file: No such file or directory\n",
      "2023-03-19 15:05:31.799128: W tensorflow/compiler/tf2tensorrt/utils/py_utils.cc:38] TF-TRT Warning: Cannot dlopen some TensorRT libraries. If you would like to use Nvidia GPU with TensorRT, please make sure the missing libraries mentioned above are installed properly.\n"
     ]
    }
   ],
   "source": [
    "import numpy as np\n",
    "import pandas as pd\n",
    "from matplotlib import pyplot as plt\n",
    "import tensorflow as tf\n",
    "from tensorflow import keras\n",
    "from tensorflow.keras import layers\n",
    "from sklearn.model_selection import train_test_split\n",
    "from tensorflow.keras.models import Sequential\n",
    "from tensorflow.keras.layers import Conv2D, MaxPooling2D, Flatten, Dense, Dropout\n",
    "from keras.optimizers import Adam"
   ]
  },
  {
   "cell_type": "markdown",
   "id": "dc79cd8c",
   "metadata": {},
   "source": [
    "# Preprocessing"
   ]
  },
  {
   "cell_type": "code",
   "execution_count": 4,
   "id": "f4b7f339",
   "metadata": {},
   "outputs": [],
   "source": [
    "train_df = pd.read_csv(r'fashion-mnist_train.csv')\n",
    "test_df = pd.read_csv(r'fashion-mnist_test.csv')\n"
   ]
  },
  {
   "cell_type": "code",
   "execution_count": 5,
   "id": "a6fb1017",
   "metadata": {},
   "outputs": [
    {
     "data": {
      "text/html": [
       "<div>\n",
       "<style scoped>\n",
       "    .dataframe tbody tr th:only-of-type {\n",
       "        vertical-align: middle;\n",
       "    }\n",
       "\n",
       "    .dataframe tbody tr th {\n",
       "        vertical-align: top;\n",
       "    }\n",
       "\n",
       "    .dataframe thead th {\n",
       "        text-align: right;\n",
       "    }\n",
       "</style>\n",
       "<table border=\"1\" class=\"dataframe\">\n",
       "  <thead>\n",
       "    <tr style=\"text-align: right;\">\n",
       "      <th></th>\n",
       "      <th>label</th>\n",
       "      <th>pixel1</th>\n",
       "      <th>pixel2</th>\n",
       "      <th>pixel3</th>\n",
       "      <th>pixel4</th>\n",
       "      <th>pixel5</th>\n",
       "      <th>pixel6</th>\n",
       "      <th>pixel7</th>\n",
       "      <th>pixel8</th>\n",
       "      <th>pixel9</th>\n",
       "      <th>...</th>\n",
       "      <th>pixel775</th>\n",
       "      <th>pixel776</th>\n",
       "      <th>pixel777</th>\n",
       "      <th>pixel778</th>\n",
       "      <th>pixel779</th>\n",
       "      <th>pixel780</th>\n",
       "      <th>pixel781</th>\n",
       "      <th>pixel782</th>\n",
       "      <th>pixel783</th>\n",
       "      <th>pixel784</th>\n",
       "    </tr>\n",
       "  </thead>\n",
       "  <tbody>\n",
       "    <tr>\n",
       "      <th>0</th>\n",
       "      <td>2</td>\n",
       "      <td>0</td>\n",
       "      <td>0</td>\n",
       "      <td>0</td>\n",
       "      <td>0</td>\n",
       "      <td>0</td>\n",
       "      <td>0</td>\n",
       "      <td>0</td>\n",
       "      <td>0</td>\n",
       "      <td>0</td>\n",
       "      <td>...</td>\n",
       "      <td>0</td>\n",
       "      <td>0</td>\n",
       "      <td>0</td>\n",
       "      <td>0</td>\n",
       "      <td>0</td>\n",
       "      <td>0</td>\n",
       "      <td>0</td>\n",
       "      <td>0</td>\n",
       "      <td>0</td>\n",
       "      <td>0</td>\n",
       "    </tr>\n",
       "    <tr>\n",
       "      <th>1</th>\n",
       "      <td>9</td>\n",
       "      <td>0</td>\n",
       "      <td>0</td>\n",
       "      <td>0</td>\n",
       "      <td>0</td>\n",
       "      <td>0</td>\n",
       "      <td>0</td>\n",
       "      <td>0</td>\n",
       "      <td>0</td>\n",
       "      <td>0</td>\n",
       "      <td>...</td>\n",
       "      <td>0</td>\n",
       "      <td>0</td>\n",
       "      <td>0</td>\n",
       "      <td>0</td>\n",
       "      <td>0</td>\n",
       "      <td>0</td>\n",
       "      <td>0</td>\n",
       "      <td>0</td>\n",
       "      <td>0</td>\n",
       "      <td>0</td>\n",
       "    </tr>\n",
       "    <tr>\n",
       "      <th>2</th>\n",
       "      <td>6</td>\n",
       "      <td>0</td>\n",
       "      <td>0</td>\n",
       "      <td>0</td>\n",
       "      <td>0</td>\n",
       "      <td>0</td>\n",
       "      <td>0</td>\n",
       "      <td>0</td>\n",
       "      <td>5</td>\n",
       "      <td>0</td>\n",
       "      <td>...</td>\n",
       "      <td>0</td>\n",
       "      <td>0</td>\n",
       "      <td>0</td>\n",
       "      <td>30</td>\n",
       "      <td>43</td>\n",
       "      <td>0</td>\n",
       "      <td>0</td>\n",
       "      <td>0</td>\n",
       "      <td>0</td>\n",
       "      <td>0</td>\n",
       "    </tr>\n",
       "    <tr>\n",
       "      <th>3</th>\n",
       "      <td>0</td>\n",
       "      <td>0</td>\n",
       "      <td>0</td>\n",
       "      <td>0</td>\n",
       "      <td>1</td>\n",
       "      <td>2</td>\n",
       "      <td>0</td>\n",
       "      <td>0</td>\n",
       "      <td>0</td>\n",
       "      <td>0</td>\n",
       "      <td>...</td>\n",
       "      <td>3</td>\n",
       "      <td>0</td>\n",
       "      <td>0</td>\n",
       "      <td>0</td>\n",
       "      <td>0</td>\n",
       "      <td>1</td>\n",
       "      <td>0</td>\n",
       "      <td>0</td>\n",
       "      <td>0</td>\n",
       "      <td>0</td>\n",
       "    </tr>\n",
       "    <tr>\n",
       "      <th>4</th>\n",
       "      <td>3</td>\n",
       "      <td>0</td>\n",
       "      <td>0</td>\n",
       "      <td>0</td>\n",
       "      <td>0</td>\n",
       "      <td>0</td>\n",
       "      <td>0</td>\n",
       "      <td>0</td>\n",
       "      <td>0</td>\n",
       "      <td>0</td>\n",
       "      <td>...</td>\n",
       "      <td>0</td>\n",
       "      <td>0</td>\n",
       "      <td>0</td>\n",
       "      <td>0</td>\n",
       "      <td>0</td>\n",
       "      <td>0</td>\n",
       "      <td>0</td>\n",
       "      <td>0</td>\n",
       "      <td>0</td>\n",
       "      <td>0</td>\n",
       "    </tr>\n",
       "  </tbody>\n",
       "</table>\n",
       "<p>5 rows × 785 columns</p>\n",
       "</div>"
      ],
      "text/plain": [
       "   label  pixel1  pixel2  pixel3  pixel4  pixel5  pixel6  pixel7  pixel8  \\\n",
       "0      2       0       0       0       0       0       0       0       0   \n",
       "1      9       0       0       0       0       0       0       0       0   \n",
       "2      6       0       0       0       0       0       0       0       5   \n",
       "3      0       0       0       0       1       2       0       0       0   \n",
       "4      3       0       0       0       0       0       0       0       0   \n",
       "\n",
       "   pixel9  ...  pixel775  pixel776  pixel777  pixel778  pixel779  pixel780  \\\n",
       "0       0  ...         0         0         0         0         0         0   \n",
       "1       0  ...         0         0         0         0         0         0   \n",
       "2       0  ...         0         0         0        30        43         0   \n",
       "3       0  ...         3         0         0         0         0         1   \n",
       "4       0  ...         0         0         0         0         0         0   \n",
       "\n",
       "   pixel781  pixel782  pixel783  pixel784  \n",
       "0         0         0         0         0  \n",
       "1         0         0         0         0  \n",
       "2         0         0         0         0  \n",
       "3         0         0         0         0  \n",
       "4         0         0         0         0  \n",
       "\n",
       "[5 rows x 785 columns]"
      ]
     },
     "execution_count": 5,
     "metadata": {},
     "output_type": "execute_result"
    }
   ],
   "source": [
    "train_df.head()"
   ]
  },
  {
   "cell_type": "code",
   "execution_count": 6,
   "id": "60197754",
   "metadata": {},
   "outputs": [
    {
     "data": {
      "text/plain": [
       "(60000, 785)"
      ]
     },
     "execution_count": 6,
     "metadata": {},
     "output_type": "execute_result"
    }
   ],
   "source": [
    "train_df.shape"
   ]
  },
  {
   "cell_type": "code",
   "execution_count": 7,
   "id": "e74cca08",
   "metadata": {},
   "outputs": [
    {
     "data": {
      "text/plain": [
       "(10000, 785)"
      ]
     },
     "execution_count": 7,
     "metadata": {},
     "output_type": "execute_result"
    }
   ],
   "source": [
    "test_df.shape"
   ]
  },
  {
   "cell_type": "code",
   "execution_count": 8,
   "id": "ce651ff6",
   "metadata": {
    "scrolled": true
   },
   "outputs": [
    {
     "name": "stdout",
     "output_type": "stream",
     "text": [
      "label       False\n",
      "pixel1      False\n",
      "pixel2      False\n",
      "pixel3      False\n",
      "pixel4      False\n",
      "            ...  \n",
      "pixel780    False\n",
      "pixel781    False\n",
      "pixel782    False\n",
      "pixel783    False\n",
      "pixel784    False\n",
      "Length: 785, dtype: bool\n"
     ]
    }
   ],
   "source": [
    "#check nulls\n",
    "print(train_df.isnull().any())"
   ]
  },
  {
   "cell_type": "code",
   "execution_count": 9,
   "id": "26e3b8f3",
   "metadata": {},
   "outputs": [],
   "source": [
    "# split data into x (image) and y (label) arrays \n",
    "train_data = np.array(train_df, dtype='float32')\n",
    "test_data = np.array(test_df, dtype='float32')\n",
    "\n",
    "x_train = train_data[:, 1:] / 255 #rescale from 255 to 1 for better convergence\n",
    "y_train = train_data[:, 0]\n",
    "\n",
    "x_test = test_data[:, 1:] / 255\n",
    "y_test = test_data[:, 0]"
   ]
  },
  {
   "cell_type": "code",
   "execution_count": 10,
   "id": "5b47f6d1",
   "metadata": {},
   "outputs": [],
   "source": [
    "# split the training set into validation and validate arrays\n",
    "# idea: compare with diff test size \n",
    "x_train, x_validate, y_train, y_validate = train_test_split(\n",
    "    x_train, y_train, test_size=0.2, random_state=12345,\n",
    ")"
   ]
  },
  {
   "cell_type": "code",
   "execution_count": 11,
   "id": "ccc656d5",
   "metadata": {},
   "outputs": [
    {
     "data": {
      "image/png": "[encoded data removed]",
      "text/plain": [
       "<Figure size 432x288 with 1 Axes>"
      ]
     },
     "metadata": {
      "needs_background": "light"
     },
     "output_type": "display_data"
    },
    {
     "data": {
      "image/png": "[encoded data removed]",
      "text/plain": [
       "<Figure size 432x288 with 1 Axes>"
      ]
     },
     "metadata": {
      "needs_background": "light"
     },
     "output_type": "display_data"
    }
   ],
   "source": [
    "# images\n",
    "\n",
    "image = x_train[200, :].reshape((28, 28))\n",
    "\n",
    "plt.imshow(image)\n",
    "plt.show()\n",
    "\n",
    "image = x_train[400, :].reshape((28, 28))\n",
    "\n",
    "plt.imshow(image)\n",
    "plt.show()"
   ]
  },
  {
   "cell_type": "code",
   "execution_count": 12,
   "id": "1a351444",
   "metadata": {},
   "outputs": [
    {
     "data": {
      "image/png": "[encoded data removed]",
      "text/plain": [
       "<Figure size 432x288 with 1 Axes>"
      ]
     },
     "metadata": {
      "needs_background": "light"
     },
     "output_type": "display_data"
    }
   ],
   "source": [
    "#Distribution of classes and labels\n",
    "\n",
    "counts, bins = np.histogram(y_train, bins=10, range=(0,10))\n",
    "fig, ax = plt.subplots()\n",
    "ax.bar(bins[:-1], counts, width=0.8)\n",
    "ax.set_xlabel('Label')\n",
    "ax.set_ylabel('Count')\n",
    "ax.set_title('MNIST Label Distribution')\n",
    "plt.show()"
   ]
  },
  {
   "cell_type": "markdown",
   "id": "0c64de36",
   "metadata": {},
   "source": [
    "# Building the model"
   ]
  },
  {
   "cell_type": "code",
   "execution_count": 60,
   "id": "7fcce337",
   "metadata": {},
   "outputs": [
    {
     "name": "stdout",
     "output_type": "stream",
     "text": [
      "(48000, 28, 28, 1)\n",
      "(10000, 28, 28, 1)\n",
      "(12000, 28, 28, 1)\n"
     ]
    }
   ],
   "source": [
    "#define the model \n",
    "im_rows = 28\n",
    "im_cols = 28 \n",
    "batch_size = 512\n",
    "im_shape = (im_rows, im_cols, 1) #2 dimensional \n",
    "num_classes = 10\n",
    "\n",
    "x_train = x_train.reshape(x_train.shape[0], *im_shape)\n",
    "x_test = x_test.reshape(x_test.shape[0], *im_shape)\n",
    "x_validate = x_validate.reshape(x_validate.shape[0], *im_shape)\n",
    "\n",
    "print(x_train.shape)\n",
    "print(x_test.shape)\n",
    "print(x_validate.shape)\n",
    "\n",
    "model = Sequential()\n",
    "model.add (Conv2D(filters=32,kernel_size =3, activation = 'relu',input_shape = im_shape))\n",
    "model.add(MaxPooling2D(pool_size = 2))\n",
    "model.add(Dropout(0.3))\n",
    "model.add(Flatten())\n",
    "model.add(Dense(32, activation='relu'))\n",
    "model.add(Dense(10, activation='softmax'))\n",
    "model.compile(loss='sparse_categorical_crossentropy', optimizer=Adam(learning_rate=0.001), metrics=['accuracy'])\n",
    "\n",
    "\n"
   ]
  },
  {
   "cell_type": "code",
   "execution_count": 61,
   "id": "89bf80ef",
   "metadata": {},
   "outputs": [
    {
     "name": "stdout",
     "output_type": "stream",
     "text": [
      "Epoch 1/20\n",
      "94/94 [==============================] - 7s 68ms/step - loss: 0.8287 - accuracy: 0.7153 - val_loss: 0.4969 - val_accuracy: 0.8244\n",
      "Epoch 2/20\n",
      "94/94 [==============================] - 6s 65ms/step - loss: 0.4625 - accuracy: 0.8395 - val_loss: 0.4088 - val_accuracy: 0.8610\n",
      "Epoch 3/20\n",
      "94/94 [==============================] - 6s 66ms/step - loss: 0.4089 - accuracy: 0.8558 - val_loss: 0.3770 - val_accuracy: 0.8677\n",
      "Epoch 4/20\n",
      "94/94 [==============================] - 6s 69ms/step - loss: 0.3751 - accuracy: 0.8685 - val_loss: 0.3494 - val_accuracy: 0.8804\n",
      "Epoch 5/20\n",
      "94/94 [==============================] - 6s 65ms/step - loss: 0.3538 - accuracy: 0.8762 - val_loss: 0.3366 - val_accuracy: 0.8840\n",
      "Epoch 6/20\n",
      "94/94 [==============================] - 6s 66ms/step - loss: 0.3377 - accuracy: 0.8803 - val_loss: 0.3480 - val_accuracy: 0.8734\n",
      "Epoch 7/20\n",
      "94/94 [==============================] - 6s 66ms/step - loss: 0.3261 - accuracy: 0.8867 - val_loss: 0.3221 - val_accuracy: 0.8863\n",
      "Epoch 8/20\n",
      "94/94 [==============================] - 6s 66ms/step - loss: 0.3168 - accuracy: 0.8880 - val_loss: 0.3144 - val_accuracy: 0.8867\n",
      "Epoch 9/20\n",
      "94/94 [==============================] - 6s 66ms/step - loss: 0.3039 - accuracy: 0.8922 - val_loss: 0.2979 - val_accuracy: 0.8939\n",
      "Epoch 10/20\n",
      "94/94 [==============================] - 6s 66ms/step - loss: 0.2953 - accuracy: 0.8957 - val_loss: 0.2941 - val_accuracy: 0.8972\n",
      "Epoch 11/20\n",
      "94/94 [==============================] - 7s 79ms/step - loss: 0.2877 - accuracy: 0.8983 - val_loss: 0.2879 - val_accuracy: 0.8965\n",
      "Epoch 12/20\n",
      "94/94 [==============================] - 6s 67ms/step - loss: 0.2818 - accuracy: 0.8987 - val_loss: 0.2811 - val_accuracy: 0.9016\n",
      "Epoch 13/20\n",
      "94/94 [==============================] - 7s 70ms/step - loss: 0.2721 - accuracy: 0.9026 - val_loss: 0.2759 - val_accuracy: 0.9010\n",
      "Epoch 14/20\n",
      "94/94 [==============================] - 8s 84ms/step - loss: 0.2681 - accuracy: 0.9044 - val_loss: 0.2730 - val_accuracy: 0.9029\n",
      "Epoch 15/20\n",
      "94/94 [==============================] - 8s 80ms/step - loss: 0.2621 - accuracy: 0.9068 - val_loss: 0.2740 - val_accuracy: 0.9022\n",
      "Epoch 16/20\n",
      "94/94 [==============================] - 6s 67ms/step - loss: 0.2572 - accuracy: 0.9077 - val_loss: 0.2686 - val_accuracy: 0.9028\n",
      "Epoch 17/20\n",
      "94/94 [==============================] - 8s 81ms/step - loss: 0.2502 - accuracy: 0.9094 - val_loss: 0.2627 - val_accuracy: 0.9049\n",
      "Epoch 18/20\n",
      "94/94 [==============================] - 7s 72ms/step - loss: 0.2482 - accuracy: 0.9111 - val_loss: 0.2603 - val_accuracy: 0.9064\n",
      "Epoch 19/20\n",
      "94/94 [==============================] - 7s 71ms/step - loss: 0.2437 - accuracy: 0.9132 - val_loss: 0.2654 - val_accuracy: 0.9062\n",
      "Epoch 20/20\n",
      "94/94 [==============================] - 7s 71ms/step - loss: 0.2377 - accuracy: 0.9149 - val_loss: 0.2581 - val_accuracy: 0.9072\n"
     ]
    }
   ],
   "source": [
    "#train model\n",
    "history = model.fit(x_train,y_train,batch_size= batch_size,epochs= 20,verbose = 1,validation_data= (x_validate,y_validate))"
   ]
  },
  {
   "cell_type": "markdown",
   "id": "03f31600",
   "metadata": {},
   "source": [
    "# Evaluate Performance"
   ]
  },
  {
   "cell_type": "code",
   "execution_count": 62,
   "id": "5c231c3a",
   "metadata": {},
   "outputs": [
    {
     "name": "stdout",
     "output_type": "stream",
     "text": [
      "Test loss: 0.25806719064712524\n",
      "Test accuracy: 0.9072499871253967\n"
     ]
    }
   ],
   "source": [
    "score = model.evaluate(x_validate, y_validate, verbose=0)\n",
    "print('Test loss:', score[0])\n",
    "print('Test accuracy:', score[1])"
   ]
  },
  {
   "cell_type": "code",
   "execution_count": 63,
   "id": "6cf66f17",
   "metadata": {},
   "outputs": [
    {
     "data": {
      "text/plain": [
       "{'loss': [0.8286571502685547,\n",
       "  0.46246838569641113,\n",
       "  0.4089054465293884,\n",
       "  0.3750641644001007,\n",
       "  0.3538461923599243,\n",
       "  0.3376585841178894,\n",
       "  0.32613760232925415,\n",
       "  0.3168456554412842,\n",
       "  0.30390170216560364,\n",
       "  0.2953389585018158,\n",
       "  0.2876778841018677,\n",
       "  0.2818220555782318,\n",
       "  0.2721116542816162,\n",
       "  0.2681409418582916,\n",
       "  0.26211050152778625,\n",
       "  0.25721195340156555,\n",
       "  0.25016987323760986,\n",
       "  0.24818046391010284,\n",
       "  0.24371449649333954,\n",
       "  0.237706258893013],\n",
       " 'accuracy': [0.7152500152587891,\n",
       "  0.8395000100135803,\n",
       "  0.8557500243186951,\n",
       "  0.8684791922569275,\n",
       "  0.8761666417121887,\n",
       "  0.8803125023841858,\n",
       "  0.8866875171661377,\n",
       "  0.8879583477973938,\n",
       "  0.8922083377838135,\n",
       "  0.8957499861717224,\n",
       "  0.898312509059906,\n",
       "  0.8986666798591614,\n",
       "  0.9026041626930237,\n",
       "  0.9043541550636292,\n",
       "  0.9067916870117188,\n",
       "  0.9077291488647461,\n",
       "  0.9093541502952576,\n",
       "  0.911062479019165,\n",
       "  0.9132291674613953,\n",
       "  0.9149166941642761],\n",
       " 'val_loss': [0.496886670589447,\n",
       "  0.40876448154449463,\n",
       "  0.3769645094871521,\n",
       "  0.3493580222129822,\n",
       "  0.33656513690948486,\n",
       "  0.34801122546195984,\n",
       "  0.32208460569381714,\n",
       "  0.3143571615219116,\n",
       "  0.29785600304603577,\n",
       "  0.2940526604652405,\n",
       "  0.2879437506198883,\n",
       "  0.28107571601867676,\n",
       "  0.2758925259113312,\n",
       "  0.2730140686035156,\n",
       "  0.2739906907081604,\n",
       "  0.2685554623603821,\n",
       "  0.2627412974834442,\n",
       "  0.2603226602077484,\n",
       "  0.26540854573249817,\n",
       "  0.25806713104248047],\n",
       " 'val_accuracy': [0.8244166374206543,\n",
       "  0.8610000014305115,\n",
       "  0.8676666617393494,\n",
       "  0.8804166913032532,\n",
       "  0.8840000033378601,\n",
       "  0.8734166622161865,\n",
       "  0.8862500190734863,\n",
       "  0.8867499828338623,\n",
       "  0.893916666507721,\n",
       "  0.8971666693687439,\n",
       "  0.8964999914169312,\n",
       "  0.9015833139419556,\n",
       "  0.9010000228881836,\n",
       "  0.902916669845581,\n",
       "  0.9022499918937683,\n",
       "  0.9027500152587891,\n",
       "  0.9049166440963745,\n",
       "  0.906416654586792,\n",
       "  0.906166672706604,\n",
       "  0.9072499871253967]}"
      ]
     },
     "execution_count": 63,
     "metadata": {},
     "output_type": "execute_result"
    }
   ],
   "source": [
    "history.history"
   ]
  },
  {
   "cell_type": "code",
   "execution_count": 64,
   "id": "0a438812",
   "metadata": {},
   "outputs": [
    {
     "data": {
      "image/png": "[encoded data removed]",
      "text/plain": [
       "<Figure size 432x288 with 1 Axes>"
      ]
     },
     "metadata": {
      "needs_background": "light"
     },
     "output_type": "display_data"
    }
   ],
   "source": [
    "#loss plot\n",
    "fig = plt.figure()\n",
    "plt.plot(history.history['loss'],color = 'teal',label = 'loss')\n",
    "plt.plot(history.history['val_loss'],color = 'orange',label = 'val_loss')\n",
    "plt.legend(loc='upper right')\n",
    "plt.show()"
   ]
  },
  {
   "cell_type": "code",
   "execution_count": null,
   "id": "a815d786",
   "metadata": {},
   "outputs": [],
   "source": []
  }
 ],
 "metadata": {
  "kernelspec": {
   "display_name": "Python 3 (ipykernel)",
   "language": "python",
   "name": "python3"
  },
  "language_info": {
   "codemirror_mode": {
    "name": "ipython",
    "version": 3
   },
   "file_extension": ".py",
   "mimetype": "text/x-python",
   "name": "python",
   "nbconvert_exporter": "python",
   "pygments_lexer": "ipython3",
   "version": "3.8.10"
  }
 },
 "nbformat": 4,
 "nbformat_minor": 5
}
